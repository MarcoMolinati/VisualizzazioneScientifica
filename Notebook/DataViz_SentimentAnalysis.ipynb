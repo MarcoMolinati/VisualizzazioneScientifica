{
 "cells": [
  {
   "cell_type": "markdown",
   "id": "a6f619d2",
   "metadata": {},
   "source": [
    "# Visualizzazione Scientifica - Twitter Sentiment e Time Series Analysis - Marco Molinati, 923530\n"
   ]
  },
  {
   "cell_type": "markdown",
   "id": "617f9667",
   "metadata": {},
   "source": [
    "## Import delle librerie utilizzate\n"
   ]
  },
  {
   "cell_type": "code",
   "execution_count": null,
   "id": "09077cd5",
   "metadata": {
    "ExecuteTime": {
     "end_time": "2022-08-31T10:00:30.987201Z",
     "start_time": "2022-08-31T10:00:27.794980Z"
    },
    "scrolled": true
   },
   "outputs": [],
   "source": [
    "from wordcloud import WordCloud, STOPWORDS\n",
    "from textblob import TextBlob\n",
    "from string import punctuation\n",
    "from sklearn.model_selection import train_test_split\n",
    "from sklearn.metrics.pairwise import cosine_similarity\n",
    "from sklearn.metrics import jaccard_score\n",
    "from scipy.spatial.distance import cdist\n",
    "from sklearn.cluster import KMeans\n",
    "from sklearn.decomposition import PCA\n",
    "from sklearn.feature_extraction.text import CountVectorizer, TfidfVectorizer\n",
    "from plotly.subplots import make_subplots\n",
    "from plotly.offline import download_plotlyjs, init_notebook_mode, plot, iplot\n",
    "from PIL import Image\n",
    "from nltk.tokenize import RegexpTokenizer, WhitespaceTokenizer\n",
    "from nltk.stem import WordNetLemmatizer\n",
    "from nltk.sentiment.vader import SentimentIntensityAnalyzer\n",
    "from nltk.corpus import stopwords\n",
    "from collections import Counter\n",
    "import chart_studio.plotly as py\n",
    "import collections\n",
    "import csv\n",
    "import cufflinks as cf\n",
    "import en_core_web_sm\n",
    "import matplotlib.pyplot as plt\n",
    "import nltk\n",
    "import numpy as np\n",
    "import os\n",
    "import pandas as pd\n",
    "import plotly.express as px\n",
    "import plotly.graph_objects as go\n",
    "import re\n",
    "import seaborn as sns\n",
    "import spacy\n",
    "from statistics import mean\n",
    "from scipy import stats\n",
    "from scipy.stats import skew, norm\n",
    "from scipy.special import boxcox1p\n",
    "from scipy.stats import boxcox_normmax\n",
    "import pickle\n",
    "from sklearn.preprocessing import StandardScaler\n",
    "import string\n",
    "import tweepy\n",
    "from tqdm.notebook import tqdm\n",
    "%matplotlib inline\n",
    "cf.go_offline()\n",
    "init_notebook_mode(connected=True)\n",
    "plt.style.use('seaborn')\n",
    "\n",
    "colorscale = px.colors.sequential.YlGnBu[1:]\n",
    "print(\"Scala colore:\", colorscale)"
   ]
  },
  {
   "cell_type": "markdown",
   "id": "d208a621",
   "metadata": {},
   "source": [
    "## Data Collection\n",
    "\n",
    "```python\n",
    "client = tweepy.Client(bearer_token='')\n",
    "\n",
    "keyword = input(\"Please enter keyword or hashtag to search: \")\n",
    "noOfTweet = int(input(\"Please enter how many tweets to analyze: \"))\n",
    "\n",
    "tweets = client.search_recent_tweets(query=keyword, max_results=noOfTweet)\n",
    "\n",
    "tweet_list = []\n",
    "for tweet in (tweets.data):\n",
    "    tweet_info = {\n",
    "        'created_at': tweet.created_at,\n",
    "        'id' : tweet.id,\n",
    "        'original': tweet.text,\n",
    "        'source': tweet.source,\n",
    "    }\n",
    "    tweet_list.append(tweet_info)\n",
    "\n",
    "tweet_list = pd.DataFrame(tweet_list)\n",
    "```\n"
   ]
  },
  {
   "cell_type": "code",
   "execution_count": null,
   "id": "c88b6100",
   "metadata": {
    "ExecuteTime": {
     "end_time": "2022-08-31T10:00:33.922366Z",
     "start_time": "2022-08-31T10:00:30.988198Z"
    }
   },
   "outputs": [],
   "source": [
    "tw_list = pd.read_csv(\n",
    "    'data/Ukraine_war.csv', parse_dates=True)\n",
    "tw_list[\"clean_tweet\"] = tw_list[\"content\"]\n",
    "tw_list.head()"
   ]
  },
  {
   "cell_type": "markdown",
   "id": "2c4fb560",
   "metadata": {},
   "source": [
    "## Data Cleaning e Text Preprocessing\n"
   ]
  },
  {
   "cell_type": "markdown",
   "id": "6a498ac3",
   "metadata": {
    "ExecuteTime": {
     "end_time": "2022-08-28T19:52:02.410467Z",
     "start_time": "2022-08-28T19:52:02.395508Z"
    }
   },
   "source": [
    "### Pulizia colonna \"user\" del DataFrame\n",
    "\n",
    "```python\n",
    "i = 0\n",
    "for username in tqdm(tw_list.user):\n",
    "    split = username.split(' ', 4)[3]\n",
    "    tick = split.replace(\"'\", '')\n",
    "    comma = tick.replace(\",\", '')\n",
    "    tw_list.iloc[i, 3] = comma\n",
    "    i += 1\n",
    "```\n"
   ]
  },
  {
   "cell_type": "markdown",
   "id": "644c964b",
   "metadata": {},
   "source": [
    "### Rimozione degli hashtag, menzioni e caratteri speciali dal testo dei tweets\n"
   ]
  },
  {
   "cell_type": "code",
   "execution_count": null,
   "id": "f60d4945",
   "metadata": {
    "ExecuteTime": {
     "end_time": "2022-08-31T10:00:38.529060Z",
     "start_time": "2022-08-31T10:00:33.923363Z"
    }
   },
   "outputs": [],
   "source": [
    "def clean_text(df, text_field):\n",
    "    df[text_field] = df[text_field].str.lower()\n",
    "    df[text_field] = df[text_field].apply(\n",
    "        lambda elem: re.sub(\n",
    "            r\"(@[A-Za-z0-9]+)|([^0-9A-Za-z \\t])|(\\w+:\\/\\/\\S+)|^rt|http.+?\", \"\", elem\n",
    "        )\n",
    "    )\n",
    "    return df\n",
    "\n",
    "\n",
    "clean_tweets = clean_text(tw_list, \"clean_tweet\")"
   ]
  },
  {
   "cell_type": "markdown",
   "id": "d816f479",
   "metadata": {},
   "source": [
    "### Rimozione stopwords, punctuations, Lemmatizzazione  e Tokenizzazione delle parole\n"
   ]
  },
  {
   "cell_type": "code",
   "execution_count": null,
   "id": "ed87fa10",
   "metadata": {
    "ExecuteTime": {
     "end_time": "2022-08-31T10:00:57.614399Z",
     "start_time": "2022-08-31T10:00:38.529951Z"
    }
   },
   "outputs": [],
   "source": [
    "nlp = en_core_web_sm.load()\n",
    "tokenizer = RegexpTokenizer(r\"\\w+\")\n",
    "lemmatizer = WordNetLemmatizer()\n",
    "stop = set(stopwords.words(\"english\"))\n",
    "punctuation = list(string.punctuation)\n",
    "stop.update(punctuation)\n",
    "w_tokenizer = WhitespaceTokenizer()\n",
    "\n",
    "\n",
    "def furnished(text):\n",
    "    final_text = []\n",
    "    for i in w_tokenizer.tokenize(text):\n",
    "        if i.lower() not in stop:\n",
    "            word = lemmatizer.lemmatize(i)\n",
    "            final_text.append(word.lower())\n",
    "    return \" \".join(final_text)\n",
    "\n",
    "\n",
    "tw_list.clean_tweet = tw_list.clean_tweet.apply(furnished)\n",
    "tw_list.head()"
   ]
  },
  {
   "cell_type": "markdown",
   "id": "afd6f1e9",
   "metadata": {},
   "source": [
    "## Time Series Analysis\n"
   ]
  },
  {
   "cell_type": "code",
   "execution_count": null,
   "id": "17a17b2d",
   "metadata": {
    "ExecuteTime": {
     "end_time": "2022-08-31T10:00:58.021648Z",
     "start_time": "2022-08-31T10:00:57.614399Z"
    }
   },
   "outputs": [],
   "source": [
    "tw_list['date'] = pd.to_datetime(tw_list['date'])\n",
    "\n",
    "print(tw_list.info())"
   ]
  },
  {
   "cell_type": "code",
   "execution_count": null,
   "id": "3e3d000b",
   "metadata": {
    "ExecuteTime": {
     "end_time": "2022-08-31T10:00:58.101406Z",
     "start_time": "2022-08-31T10:00:58.022616Z"
    }
   },
   "outputs": [],
   "source": [
    "tw_list['Year'] = tw_list.date.dt.year\n",
    "tw_list['Month'] = tw_list.date.dt.month\n",
    "tw_list['Weekday'] = tw_list.date.dt.day_name()\n",
    "\n",
    "\n",
    "tw_list.head()"
   ]
  },
  {
   "cell_type": "markdown",
   "id": "0fc8150c",
   "metadata": {},
   "source": [
    "### Analisi Settimanale e Mensile\n"
   ]
  },
  {
   "cell_type": "code",
   "execution_count": null,
   "id": "43f8097e",
   "metadata": {
    "ExecuteTime": {
     "end_time": "2022-08-31T10:00:58.257697Z",
     "start_time": "2022-08-31T10:00:58.102403Z"
    }
   },
   "outputs": [],
   "source": [
    "cats = ['Monday', 'Tuesday', 'Wednesday',\n",
    "        'Thursday', 'Friday', 'Saturday', 'Sunday']\n",
    "weeks_df = tw_list.groupby(['Weekday']).count().reindex(cats)\n",
    "weeks_df = weeks_df[['content']]\n",
    "weeks_df"
   ]
  },
  {
   "cell_type": "code",
   "execution_count": null,
   "id": "deb969c2",
   "metadata": {
    "ExecuteTime": {
     "end_time": "2022-08-31T10:00:58.273711Z",
     "start_time": "2022-08-31T10:00:58.258693Z"
    }
   },
   "outputs": [],
   "source": [
    "sorter = ['Monday', 'Tuesday', 'Wednesday',\n",
    "          'Thursday', 'Friday', 'Saturday', 'Sunday']\n",
    "sorterIndex = dict(zip(sorter, range(len(sorter))))\n",
    "\n",
    "weeks_df['Day_id'] = weeks_df.index\n",
    "weeks_df['Day_id'] = weeks_df['Day_id'].map(sorterIndex)\n",
    "weeks_df.sort_values('Day_id', inplace=True)"
   ]
  },
  {
   "cell_type": "code",
   "execution_count": null,
   "id": "d9fe984c",
   "metadata": {
    "ExecuteTime": {
     "end_time": "2022-08-31T10:00:58.305273Z",
     "start_time": "2022-08-31T10:00:58.275082Z"
    }
   },
   "outputs": [],
   "source": [
    "fig = go.Figure(go.Scatter(x=weeks_df.Day_id, y=weeks_df.content,\n",
    "                           line=dict(color=colorscale[4])\n",
    "                           ))\n",
    "\n",
    "fig.update_layout(\n",
    "    xaxis=dict(\n",
    "        tickmode='array',\n",
    "        tickvals=[0, 1, 2, 3, 4, 5, 6],\n",
    "        ticktext=sorter\n",
    "    )\n",
    ")\n",
    "\n",
    "fig.show()"
   ]
  },
  {
   "cell_type": "code",
   "execution_count": null,
   "id": "a781cdd0",
   "metadata": {
    "ExecuteTime": {
     "end_time": "2022-08-31T10:00:58.480779Z",
     "start_time": "2022-08-31T10:00:58.308239Z"
    }
   },
   "outputs": [],
   "source": [
    "months_df = tw_list.groupby(['Month']).count()\n",
    "months_df = months_df[['content']]\n",
    "months_df[:3]"
   ]
  },
  {
   "cell_type": "markdown",
   "id": "9ef7525f",
   "metadata": {},
   "source": [
    "### Analisi oraria nelle 24h\n"
   ]
  },
  {
   "cell_type": "code",
   "execution_count": null,
   "id": "d0e22c86",
   "metadata": {
    "ExecuteTime": {
     "end_time": "2022-08-31T10:00:58.599201Z",
     "start_time": "2022-08-31T10:00:58.481776Z"
    }
   },
   "outputs": [],
   "source": [
    "tw_list['hour'] = pd.DatetimeIndex(tw_list['date']).hour\n",
    "tw_list['date'] = pd.DatetimeIndex(tw_list['date']).date\n",
    "tw_list['count'] = 1\n",
    "tw_list_filtered = tw_list[['hour', 'date', 'count']]\n",
    "tw_list_filtered.head()"
   ]
  },
  {
   "cell_type": "code",
   "execution_count": null,
   "id": "3d139e2d",
   "metadata": {
    "ExecuteTime": {
     "end_time": "2022-08-31T10:00:58.614398Z",
     "start_time": "2022-08-31T10:00:58.600173Z"
    }
   },
   "outputs": [],
   "source": [
    "df_tweets_hourly = tw_list_filtered.groupby([\"hour\"]).sum().reset_index()\n",
    "df_tweets_hourly.head()"
   ]
  },
  {
   "cell_type": "code",
   "execution_count": null,
   "id": "b115ebf9",
   "metadata": {
    "ExecuteTime": {
     "end_time": "2022-08-31T10:00:59.991557Z",
     "start_time": "2022-08-31T10:00:58.615372Z"
    }
   },
   "outputs": [],
   "source": [
    "sns.set(style=\"white\")\n",
    "plot = sns.lmplot(x=\"hour\", y=\"count\", order=2,\n",
    "                  data=df_tweets_hourly, height=8.27, aspect=11.7/8.27)\n",
    "plt.xticks(np.arange(0, 24, 1))\n",
    "plt.show()\n",
    "# plot.savefig('seaborn.png')\n",
    "\n",
    "fig = px.scatter(df_tweets_hourly, x=\"hour\", y=\"count\",\n",
    "                 trendline=\"ols\")\n",
    "\n",
    "fig.update_traces(marker=dict(\n",
    "    color=colorscale[4]))\n",
    "fig.show()"
   ]
  },
  {
   "cell_type": "code",
   "execution_count": null,
   "id": "09549fac",
   "metadata": {
    "ExecuteTime": {
     "end_time": "2022-08-31T10:01:00.039378Z",
     "start_time": "2022-08-31T10:00:59.994497Z"
    }
   },
   "outputs": [],
   "source": [
    "fig = go.Figure()\n",
    "\n",
    "fig.add_trace(\n",
    "    go.Scatter(\n",
    "        x=df_tweets_hourly.hour,\n",
    "        y=df_tweets_hourly['count'],\n",
    "        marker=dict(color=colorscale[4]),\n",
    "        mode=\"lines+markers\"\n",
    "    ))\n",
    "\n",
    "fig.add_trace(\n",
    "    go.Bar(\n",
    "        x=df_tweets_hourly.hour,\n",
    "        y=df_tweets_hourly['count'],\n",
    "        marker=dict(color=df_tweets_hourly['count'], coloraxis=\"coloraxis\")\n",
    "    ))\n",
    "\n",
    "fig.update_layout(\n",
    "    coloraxis=dict(colorscale='YlGnBu'),\n",
    "    showlegend=False,\n",
    "    title_text=\"Volume Orario dei Tweet\",\n",
    "    uniformtext_minsize=8,\n",
    ")\n",
    "\n",
    "fig.show()"
   ]
  },
  {
   "cell_type": "markdown",
   "id": "0f790085",
   "metadata": {},
   "source": [
    "## Text Classification"
   ]
  },
  {
   "cell_type": "markdown",
   "id": "660dc079",
   "metadata": {
    "ExecuteTime": {
     "end_time": "2022-08-28T19:52:32.287383Z",
     "start_time": "2022-08-28T19:52:32.271783Z"
    }
   },
   "source": [
    "### Polarity and subjectivity with TextBlob and NLTK\n",
    "\n",
    "```python\n",
    "tw_list[[\"polarity\", \"subjectivity\"]] = tw_list[\"clean_tweet\"].apply(\n",
    "    lambda Text: pd.Series(TextBlob(Text).sentiment)\n",
    ")\n",
    "\n",
    "for index, row in tw_list[\"clean_tweet\"].iteritems():\n",
    "    print(index, end='\\r')\n",
    "    score = SentimentIntensityAnalyzer().polarity_scores(row)\n",
    "    neg = score[\"neg\"]\n",
    "    neu = score[\"neu\"]\n",
    "    pos = score[\"pos\"]\n",
    "    comp = score[\"compound\"]\n",
    "\n",
    "    if neg > pos:\n",
    "        tw_list.loc[index, \"sentiment\"] = \"negative\"\n",
    "    elif pos > neg:\n",
    "        tw_list.loc[index, \"sentiment\"] = \"positive\"\n",
    "    else:\n",
    "        tw_list.loc[index, \"sentiment\"] = \"neutral\"\n",
    "\n",
    "    tw_list.loc[index, \"neg\"] = neg\n",
    "    tw_list.loc[index, \"neu\"] = neu\n",
    "    tw_list.loc[index, \"pos\"] = pos\n",
    "    tw_list.loc[index, \"compound\"] = comp\n",
    "```\n"
   ]
  },
  {
   "cell_type": "code",
   "execution_count": null,
   "id": "fefb1e90",
   "metadata": {
    "ExecuteTime": {
     "end_time": "2022-08-31T10:01:01.732407Z",
     "start_time": "2022-08-31T10:01:00.040373Z"
    }
   },
   "outputs": [],
   "source": [
    "tw_list = pd.read_csv(\n",
    "    'data/Ukraine_war_IntensityAnalyzer.csv', parse_dates=True)\n",
    "tw_list[\"date_short\"] = tw_list.date.str.slice(0, 10)\n",
    "tw_list.head()"
   ]
  },
  {
   "cell_type": "code",
   "execution_count": null,
   "id": "2a172e9d",
   "metadata": {
    "ExecuteTime": {
     "end_time": "2022-08-31T10:01:02.063813Z",
     "start_time": "2022-08-31T10:01:01.733377Z"
    }
   },
   "outputs": [],
   "source": [
    "# Percentuale sentimenti Totale, Prima dell'invasione e durante l'invasione\n",
    "\n",
    "total_pos = len(tw_list.loc[tw_list[\"sentiment\"] == \"positive\"])\n",
    "total_neg = len(tw_list.loc[tw_list[\"sentiment\"] == \"negative\"])\n",
    "total_neu = len(tw_list.loc[tw_list[\"sentiment\"] == \"neutral\"])\n",
    "total_tweets = len(tw_list)\n",
    "print(\"Total Positive Tweets % : {:.2f}\".format(\n",
    "    (total_pos / total_tweets) * 100))\n",
    "print(\"Total Negative Tweets % : {:.2f}\".format(\n",
    "    (total_neg / total_tweets) * 100))\n",
    "print(\"Total Neutral Tweets % : {:.2f}\".format(\n",
    "    (total_neu / total_tweets) * 100))\n",
    "\n",
    "total_before = len(tw_list[tw_list.date < \"2022-02-20\"])\n",
    "before_pos = len(\n",
    "    tw_list[(tw_list.sentiment == \"positive\") & (tw_list.date < \"2022-02-20\")])\n",
    "before_neg = len(\n",
    "    tw_list[(tw_list.sentiment == \"negative\") & (tw_list.date < \"2022-02-20\")])\n",
    "before_neu = len(tw_list[(tw_list.sentiment == \"neutral\")\n",
    "                 & (tw_list.date < \"2022-02-20\")])\n",
    "\n",
    "total_after = len(tw_list[tw_list.date >= \"2022-02-20\"])\n",
    "current_pos = len(\n",
    "    tw_list[(tw_list.sentiment == \"positive\") & (tw_list.date >= \"2022-02-20\")])\n",
    "current_neg = len(\n",
    "    tw_list[(tw_list.sentiment == \"negative\") & (tw_list.date >= \"2022-02-20\")])\n",
    "current_neu = len(\n",
    "    tw_list[(tw_list.sentiment == \"neutral\") & (tw_list.date >= \"2022-02-20\")])\n",
    "\n",
    "print(\"Before Positive Tweets % : {:.2f}\".format(\n",
    "    (before_pos / total_before) * 100))\n",
    "print(\"Before Negative Tweets % : {:.2f}\".format(\n",
    "    (before_neg / total_before) * 100))\n",
    "print(\"Before Neutral Tweets % : {:.2f}\".format(\n",
    "    (before_neu / total_before) * 100))\n",
    "print(\"After Positive Tweets % : {:.2f}\".format(\n",
    "    (current_pos / total_after) * 100))\n",
    "print(\"After Negative Tweets % : {:.2f}\".format(\n",
    "    (current_neg / total_after) * 100))\n",
    "print(\"After Neutral Tweets % : {:.2f}\".format(\n",
    "    (current_neu / total_after) * 100))"
   ]
  },
  {
   "cell_type": "markdown",
   "id": "be6e1e34",
   "metadata": {},
   "source": [
    "### Grafici a misuratore radiale\n"
   ]
  },
  {
   "cell_type": "code",
   "execution_count": null,
   "id": "c453334f",
   "metadata": {
    "ExecuteTime": {
     "end_time": "2022-08-31T10:01:02.102717Z",
     "start_time": "2022-08-31T10:01:02.064790Z"
    }
   },
   "outputs": [],
   "source": [
    "fig = go.Figure(go.Indicator(\n",
    "    domain={'x': [0, 1], 'y': [0, 1]},\n",
    "    value=total_pos,\n",
    "    mode=\"gauge+number+delta\",\n",
    "    title={'text': \"Tweets Positivi\"},\n",
    "    delta={'reference': total_neg, 'decreasing': {'color': colorscale[5]}},\n",
    "    gauge={'bar': {'color': colorscale[1]},\n",
    "           'axis': {'range': [None, total_tweets]},\n",
    "           'threshold': {\n",
    "        'line': {'color': colorscale[5], 'width': 4},\n",
    "        'thickness': 0.75,\n",
    "        'value': total_neg}\n",
    "    }))\n",
    "fig.show()\n",
    "#fig.write_image(\"gauge_pos.png\")"
   ]
  },
  {
   "cell_type": "code",
   "execution_count": null,
   "id": "2671d2dd",
   "metadata": {
    "ExecuteTime": {
     "end_time": "2022-08-31T10:01:02.117649Z",
     "start_time": "2022-08-31T10:01:02.103685Z"
    }
   },
   "outputs": [],
   "source": [
    "fig = go.Figure(go.Indicator(\n",
    "    domain={'x': [0, 1], 'y': [0, 1]},\n",
    "    value=total_neg,\n",
    "    mode=\"gauge+number+delta\",\n",
    "    title={'text': \"Tweets Negativi\"},\n",
    "    delta={'reference': total_pos, 'increasing': {'color': colorscale[5]}},\n",
    "    gauge={'bar': {'color': colorscale[3]},\n",
    "           'axis': {'range': [None, total_tweets]},\n",
    "           'threshold': {\n",
    "        'line': {'color': colorscale[5], 'width': 4},\n",
    "        'thickness': 0.75,\n",
    "        'value': total_pos}\n",
    "    }))\n",
    "fig.show()\n",
    "# fig.write_image(\"gauge_negative.png\")"
   ]
  },
  {
   "cell_type": "code",
   "execution_count": null,
   "id": "3b979124",
   "metadata": {
    "ExecuteTime": {
     "end_time": "2022-08-31T10:01:02.132636Z",
     "start_time": "2022-08-31T10:01:02.118646Z"
    }
   },
   "outputs": [],
   "source": [
    "delta = (total_pos + total_neg) - total_neu\n",
    "fig = go.Figure(go.Indicator(\n",
    "    domain={'x': [0, 1], 'y': [0, 1]},\n",
    "    value=total_neu,\n",
    "    mode=\"gauge+number+delta\",\n",
    "    title={'text': \"Tweets Neutrali\"},\n",
    "    delta={'reference': delta, 'decreasing': {'color': colorscale[5]}},\n",
    "    gauge={'bar': {'color': colorscale[7]},\n",
    "           'axis': {'range': [None, total_tweets]},\n",
    "           'threshold': {\n",
    "        'line': {'color': colorscale[5], 'width': 4},\n",
    "        'thickness': 0.75,\n",
    "        'value': (total_pos + total_neg)}\n",
    "    }))\n",
    "fig.show()\n",
    "# fig.write_image(\"gauge_neu.png\")"
   ]
  },
  {
   "cell_type": "markdown",
   "id": "0d2df3a9",
   "metadata": {},
   "source": [
    "### Grafici a torta\n"
   ]
  },
  {
   "cell_type": "code",
   "execution_count": null,
   "id": "9e0cbb73",
   "metadata": {
    "ExecuteTime": {
     "end_time": "2022-08-31T10:01:02.185349Z",
     "start_time": "2022-08-31T10:01:02.133606Z"
    }
   },
   "outputs": [],
   "source": [
    "labels = [\"Positivo\", \"Negativo\", \"Neutrale\"]\n",
    "values_tot = [total_pos, total_neg, total_neu]\n",
    "values_before = [before_pos, before_neg, before_neu]\n",
    "values_current = [current_pos, current_neg, current_neu]\n",
    "\n",
    "fig = make_subplots(rows=1, cols=3, specs=[\n",
    "                    [{'type': 'domain'}, {'type': 'domain'}, {'type': 'domain'}]],\n",
    "                    subplot_titles=['Percentuale Totale', \"Percentuale prima dell'invasione\", \"Percentuale durante l'invasione\"])\n",
    "fig.add_trace(go.Pie(labels=labels, values=values_tot, name='Percentuale Totale', textinfo=\"label+percent\"),\n",
    "              1, 1)\n",
    "fig.add_trace(go.Pie(labels=labels, values=values_before, name=\"Percentuale prima dell'invasione\", textinfo=\"label+percent\"),\n",
    "              1, 2)\n",
    "fig.add_trace(go.Pie(labels=labels, values=values_current, name=\"Percentuale durante l'invasione\", textinfo=\"label+percent\"),\n",
    "              1, 3)\n",
    "\n",
    "# Use `hole` to create a donut-like pie chart\n",
    "fig.update_traces(hole=.4)\n",
    "\n",
    "fig.update_layout(\n",
    "    title_text=\"Percentuale dei sentimenti in funzione del tempo\",)\n",
    "fig.update_traces(marker=dict(colors=colorscale))\n",
    "\n",
    "fig.show()\n",
    "# fig.write_image(\"pie_tot.png\")"
   ]
  },
  {
   "cell_type": "markdown",
   "id": "b5a1dee6",
   "metadata": {},
   "source": [
    "### Visualizzazione Statica e Animata dell'andamento dei sentimenti (in percentuale) nei tweet in funzione del tempo"
   ]
  },
  {
   "cell_type": "code",
   "execution_count": null,
   "id": "274a527b",
   "metadata": {
    "ExecuteTime": {
     "end_time": "2022-08-31T10:01:03.015870Z",
     "start_time": "2022-08-31T10:01:02.186324Z"
    }
   },
   "outputs": [],
   "source": [
    "pos_list = []\n",
    "neg_list = []\n",
    "neu_list = []\n",
    "for i in tw_list[\"date_short\"].unique():\n",
    "    temp = tw_list[tw_list[\"date_short\"] == i]\n",
    "    positive_temp = temp[temp[\"sentiment\"] == \"positive\"]\n",
    "    negative_temp = temp[temp[\"sentiment\"] == \"negative\"]\n",
    "    neutral_temp = temp[temp[\"sentiment\"] == \"neutral\"]\n",
    "    pos_list.append(((positive_temp.shape[0] / temp.shape[0]) * 100, i))\n",
    "    neg_list.append(((negative_temp.shape[0] / temp.shape[0]) * 100, i))\n",
    "    neu_list.append(((neutral_temp.shape[0] / temp.shape[0]) * 100, i))\n",
    "\n",
    "neu_list = sorted(neu_list, key=lambda x: x[1])\n",
    "pos_list = sorted(pos_list, key=lambda x: x[1])\n",
    "neg_list = sorted(neg_list, key=lambda x: x[1])\n",
    "\n",
    "x_cord_neg = []\n",
    "y_cord_neg = []\n",
    "\n",
    "x_cord_pos = []\n",
    "y_cord_pos = []\n",
    "\n",
    "x_cord_neu = []\n",
    "y_cord_neu = []\n",
    "\n",
    "for i in neg_list:\n",
    "    x_cord_neg.append(i[0])\n",
    "    y_cord_neg.append(i[1])\n",
    "\n",
    "for i in pos_list:\n",
    "    x_cord_pos.append(i[0])\n",
    "    y_cord_pos.append(i[1])\n",
    "\n",
    "for i in neu_list:\n",
    "    x_cord_neu.append(i[0])\n",
    "    y_cord_neu.append(i[1])"
   ]
  },
  {
   "cell_type": "code",
   "execution_count": null,
   "id": "91ac2056",
   "metadata": {
    "ExecuteTime": {
     "end_time": "2022-08-31T10:01:03.031560Z",
     "start_time": "2022-08-31T10:01:03.016869Z"
    }
   },
   "outputs": [],
   "source": [
    "def pickleDump(data, name):\n",
    "    filename = name + \".pk\"\n",
    "    with open(filename, 'wb') as fi:\n",
    "        pickle.dump(data, fi)\n",
    "\n",
    "\n",
    "def pickleLoad(name):\n",
    "    filename = name + \".pk\"\n",
    "    with open(filename, 'rb') as fi:\n",
    "        variable = pickle.load(fi)\n",
    "        return variable"
   ]
  },
  {
   "cell_type": "code",
   "execution_count": null,
   "id": "cb1960b8",
   "metadata": {
    "ExecuteTime": {
     "end_time": "2022-08-31T10:01:03.047524Z",
     "start_time": "2022-08-31T10:01:03.032559Z"
    }
   },
   "outputs": [],
   "source": [
    "data = {\"X_pos\": y_cord_pos, \"Y_pos\": x_cord_pos}\n",
    "df = pd.DataFrame(data)"
   ]
  },
  {
   "cell_type": "code",
   "execution_count": null,
   "id": "acfbc365",
   "metadata": {
    "ExecuteTime": {
     "end_time": "2022-08-31T10:01:03.078406Z",
     "start_time": "2022-08-31T10:01:03.048732Z"
    }
   },
   "outputs": [],
   "source": [
    "fig = go.Figure()\n",
    "fig.add_trace(\n",
    "    go.Scatter(\n",
    "        x=y_cord_pos[:1000],\n",
    "        y=x_cord_pos[:1000],\n",
    "        mode=\"lines+markers\",\n",
    "        name=\"Positive\",\n",
    "        line=dict(color=colorscale[4]),\n",
    "    )\n",
    ")\n",
    "fig.add_trace(\n",
    "    go.Scatter(\n",
    "        x=y_cord_neg[:1000],\n",
    "        y=x_cord_neg[:1000],\n",
    "        mode=\"lines+markers\",\n",
    "        name=\"Negative\",\n",
    "        line=dict(color=colorscale[5]),\n",
    "    )\n",
    ")\n",
    "fig.add_trace(\n",
    "    go.Scatter(\n",
    "        x=y_cord_neu[:1000],\n",
    "        y=x_cord_neu[:1000],\n",
    "        mode=\"lines+markers\",\n",
    "        name=\"Neutral\",\n",
    "        line=dict(color=colorscale[3]),\n",
    "    )\n",
    ")\n",
    "fig.show()\n",
    "# fig.write_image(\"timeseries_static.png\")"
   ]
  },
  {
   "cell_type": "code",
   "execution_count": null,
   "id": "24761519",
   "metadata": {
    "ExecuteTime": {
     "end_time": "2022-08-31T10:01:03.221999Z",
     "start_time": "2022-08-31T10:01:03.080378Z"
    }
   },
   "outputs": [],
   "source": [
    "trace1 = go.Scatter(x=y_cord_pos, y=x_cord_pos,\n",
    "                    mode='lines+markers',\n",
    "                    line=dict(color=colorscale[4]),\n",
    "                    name=\"Positive\"\n",
    "                    )\n",
    "trace2 = go.Scatter(x=y_cord_neg, y=x_cord_neg,\n",
    "                    mode='lines+markers',\n",
    "                    line=dict(color=colorscale[5]),\n",
    "                    name=\"Negative\"\n",
    "                    )\n",
    "trace3 = go.Scatter(x=y_cord_neu, y=x_cord_neu,\n",
    "                    mode='lines+markers',\n",
    "                    line=dict(color=colorscale[3]),\n",
    "                    name=\"Neutral\"\n",
    "                    )\n",
    "\n",
    "frames = [dict(data=[dict(type='scatter',\n",
    "                          x=y_cord_pos[:k+1],\n",
    "                          y=x_cord_pos[:k+1]),\n",
    "                     dict(type='scatter',\n",
    "                          x=y_cord_neg[:k+1],\n",
    "                          y=x_cord_neg[:k+1]),\n",
    "                     dict(type='scatter',\n",
    "                          x=y_cord_neu[:k+1],\n",
    "                          y=x_cord_neu[:k+1]),\n",
    "                     ],\n",
    "               traces=[0, 1, 2],\n",
    "               )for k in range(1, len(y_cord_pos)-1)]\n",
    "\n",
    "layout = go.Layout(\n",
    "    xaxis=dict(range=['2021-12-31', '2022-03-05'], autorange=False),\n",
    "    yaxis=dict(range=[0, 90], autorange=False, title=\"Percentage\"),\n",
    "    title=\"Percentuale dei sentimenti in funzione del tempo\",\n",
    "    # showlegend=False,\n",
    "    hovermode='x unified',\n",
    "    updatemenus=[\n",
    "        dict(\n",
    "            type='buttons', showactive=False,\n",
    "            buttons=[dict(label='Play',\n",
    "                          method='animate',\n",
    "                          args=[None,\n",
    "                                dict(frame=dict(duration=5,\n",
    "                                                redraw=False),\n",
    "                                     transition=dict(\n",
    "                                    duration=5),\n",
    "                                    fromcurrent=True,\n",
    "                                    mode='immediate')]\n",
    "                          ),\n",
    "                     dict(label='Pause',\n",
    "                          method='animate',\n",
    "                          args=[[None], {'frame': {'duration': 0, 'redraw': False},\n",
    "                                         'mode': 'immediate',\n",
    "                                         'transition': {'duration': 0}}]\n",
    "                          )]\n",
    "        ),\n",
    "    ]\n",
    ")\n",
    "\n",
    "fig = go.Figure(data=[trace1, trace2, trace3],\n",
    "                frames=frames, layout=layout)\n",
    "fig.show()"
   ]
  },
  {
   "cell_type": "markdown",
   "id": "996cb8e1",
   "metadata": {},
   "source": [
    "### Bigrammi, Trigrammi e Parole più utilizzate nei tweets"
   ]
  },
  {
   "cell_type": "code",
   "execution_count": null,
   "id": "604a7068",
   "metadata": {
    "ExecuteTime": {
     "end_time": "2022-08-31T10:01:03.236960Z",
     "start_time": "2022-08-31T10:01:03.222996Z"
    }
   },
   "outputs": [],
   "source": [
    "def get_top_n_gram(corpus, ngram_range, n=None):\n",
    "\n",
    "    vectorizer = CountVectorizer(\n",
    "        analyzer='word', ngram_range=ngram_range, stop_words='english')\n",
    "    words = vectorizer.fit_transform(corpus.astype('U').values)\n",
    "\n",
    "    sum_words = words.sum(axis=0)\n",
    "    words_freq = [(word, sum_words[0, idx])\n",
    "                  for word, idx in vectorizer.vocabulary_.items()]\n",
    "    words_freq = sorted(words_freq, key=lambda x: x[1], reverse=True)\n",
    "    return words_freq[:n]"
   ]
  },
  {
   "cell_type": "code",
   "execution_count": null,
   "id": "9db67960",
   "metadata": {
    "ExecuteTime": {
     "end_time": "2022-08-31T10:01:30.096025Z",
     "start_time": "2022-08-31T10:01:03.237958Z"
    }
   },
   "outputs": [],
   "source": [
    "# top words\n",
    "n = get_top_n_gram(tw_list[\"clean_tweet\"], (1, 1), 30)\n",
    "n1 = pd.DataFrame(n)\n",
    "n1.columns = [\"words\", \"occurrences\"]\n",
    "\n",
    "# n2_bigram\n",
    "n2_bigrams = get_top_n_gram(tw_list[\"clean_tweet\"], (2, 2), 10)\n",
    "bigrams = pd.DataFrame(n2_bigrams)\n",
    "bigrams.columns = [\"words\", \"occurrences\"]\n",
    "\n",
    "# n3_trigram\n",
    "n3_trigrams = get_top_n_gram(tw_list[\"clean_tweet\"], (3, 3), 10)\n",
    "trigrams = pd.DataFrame(n3_trigrams)\n",
    "trigrams.columns = [\"words\", \"occurrences\"]"
   ]
  },
  {
   "cell_type": "code",
   "execution_count": null,
   "id": "36af8308",
   "metadata": {
    "ExecuteTime": {
     "end_time": "2022-08-31T10:01:30.158859Z",
     "start_time": "2022-08-31T10:01:30.100015Z"
    }
   },
   "outputs": [],
   "source": [
    "fig = make_subplots(\n",
    "    rows=2,\n",
    "    cols=2,\n",
    "    specs=[[{}, {}], [{\"colspan\": 2}, None]],\n",
    "    subplot_titles=(\"Top 10 Bigrams\", \"Top 10 Trigrams\", \"Top 30 Words\"),\n",
    ")\n",
    "\n",
    "fig.add_trace(\n",
    "    go.Bar(x=bigrams.words, y=bigrams.occurrences, marker=dict(color=bigrams.occurrences,\n",
    "           coloraxis=\"coloraxis\")),  # marker_color=px.colors.sequential.Darkmint),\n",
    "    row=1,\n",
    "    col=1,\n",
    ")\n",
    "\n",
    "fig.add_trace(\n",
    "    go.Bar(x=trigrams.words, y=trigrams.occurrences, marker=dict(color=trigrams.occurrences, coloraxis=\"coloraxis\")\n",
    "           ),\n",
    "    row=1,\n",
    "    col=2,\n",
    ")\n",
    "\n",
    "fig.add_trace(\n",
    "    go.Bar(x=n1.words, y=n1.occurrences, marker=dict(color=n1.occurrences, coloraxis=\"coloraxis\"),\n",
    "           ),\n",
    "    row=2,\n",
    "    col=1,\n",
    ")\n",
    "\n",
    "fig.update_layout(\n",
    "    coloraxis=dict(colorscale=colorscale),\n",
    "    showlegend=False,\n",
    "    title_text=\"Dati sulle parole più utilizzate\",\n",
    "    uniformtext_minsize=8,\n",
    "    height=900,\n",
    ")\n",
    "fig.update_xaxes(tickangle=-45)\n",
    "fig.update_traces(texttemplate=\"%{value}\")\n",
    "fig.show()\n",
    "# fig.write_image(\"top_words.png\")"
   ]
  },
  {
   "cell_type": "code",
   "execution_count": null,
   "id": "d69aa870",
   "metadata": {
    "ExecuteTime": {
     "end_time": "2022-08-31T10:01:31.311726Z",
     "start_time": "2022-08-31T10:01:30.160853Z"
    }
   },
   "outputs": [],
   "source": [
    "fig = px.treemap(n1, path=['words'], values='occurrences',\n",
    "                 color='occurrences', color_continuous_scale=colorscale)\n",
    "fig.show()"
   ]
  },
  {
   "cell_type": "markdown",
   "id": "a7730be3",
   "metadata": {},
   "source": [
    "## Clustering"
   ]
  },
  {
   "cell_type": "code",
   "execution_count": null,
   "id": "04acfd80",
   "metadata": {
    "ExecuteTime": {
     "end_time": "2022-08-31T10:01:31.327071Z",
     "start_time": "2022-08-31T10:01:31.312696Z"
    }
   },
   "outputs": [],
   "source": [
    "# pickleDump(economy_related_words, \"economy_related_words\")\n",
    "# pickleDump(social_related_words, \"social_related_words\")\n",
    "# pickleDump(culture_related_words, \"culture_related_words\")\n",
    "# pickleDump(health_related_words, \"health_related_words\")\n",
    "\n",
    "economy_related_words = pickleLoad(\"economy_related_words\")\n",
    "social_related_words = pickleLoad(\"social_related_words\")\n",
    "culture_related_words = pickleLoad(\"culture_related_words\")\n",
    "health_related_words = pickleLoad(\"health_related_words\")"
   ]
  },
  {
   "cell_type": "code",
   "execution_count": null,
   "id": "e7f11c2c",
   "metadata": {
    "ExecuteTime": {
     "end_time": "2022-08-31T10:01:31.946752Z",
     "start_time": "2022-08-31T10:01:31.328040Z"
    }
   },
   "outputs": [],
   "source": [
    "nlp = en_core_web_sm.load()\n",
    "tokenizer = RegexpTokenizer(r\"\\w+\")\n",
    "lemmatizer = WordNetLemmatizer()\n",
    "stop = set(stopwords.words(\"english\"))\n",
    "punctuation = list(string.punctuation)\n",
    "stop.update(punctuation)\n",
    "w_tokenizer = WhitespaceTokenizer()\n",
    "\n",
    "# clean the set of words\n",
    "\n",
    "\n",
    "def furnished(text):\n",
    "    final_text = []\n",
    "    for i in text.split():\n",
    "        if i.lower() not in stop:\n",
    "            word = lemmatizer.lemmatize(i)\n",
    "            final_text.append(word.lower())\n",
    "    return \" \".join(final_text)\n",
    "\n",
    "\n",
    "economy = furnished(economy_related_words)\n",
    "social = furnished(social_related_words)\n",
    "culture = furnished(culture_related_words)\n",
    "health = furnished(health_related_words)"
   ]
  },
  {
   "cell_type": "code",
   "execution_count": null,
   "id": "bd0c58a2",
   "metadata": {
    "ExecuteTime": {
     "end_time": "2022-08-31T10:01:31.962156Z",
     "start_time": "2022-08-31T10:01:31.948323Z"
    }
   },
   "outputs": [],
   "source": [
    "# delete duplicates\n",
    "string1 = economy\n",
    "words = string1.split()\n",
    "economy = \" \".join(sorted(set(words), key=words.index))\n",
    "\n",
    "string1 = social\n",
    "words = string1.split()\n",
    "social = \" \".join(sorted(set(words), key=words.index))\n",
    "\n",
    "string1 = culture\n",
    "words = string1.split()\n",
    "culture = \" \".join(sorted(set(words), key=words.index))\n",
    "\n",
    "string1 = health\n",
    "words = string1.split()\n",
    "health = \" \".join(sorted(set(words), key=words.index))"
   ]
  },
  {
   "cell_type": "markdown",
   "id": "784e62c0",
   "metadata": {},
   "source": [
    "## Jaccard Similarity"
   ]
  },
  {
   "cell_type": "code",
   "execution_count": null,
   "id": "8ba622f2",
   "metadata": {
    "ExecuteTime": {
     "end_time": "2022-08-31T10:01:31.977676Z",
     "start_time": "2022-08-31T10:01:31.963240Z"
    }
   },
   "outputs": [],
   "source": [
    "def jaccard_similarity(group, tweet):\n",
    "    group = set(group)\n",
    "    try:\n",
    "        tweet = set(tweet)\n",
    "        nominator = group.intersection(tweet)\n",
    "        denominator = group.union(tweet)\n",
    "        similarity = len(nominator)/len(denominator)\n",
    "        return similarity\n",
    "    except:\n",
    "        print(tweet)\n",
    "\n",
    "\n",
    "def get_scores(group, tweets):\n",
    "    scores = []\n",
    "    for tweet in tweets:\n",
    "        s = jaccard_similarity(group, tweet)\n",
    "        scores.append(s)\n",
    "    return scores"
   ]
  },
  {
   "cell_type": "code",
   "execution_count": null,
   "id": "8fb75a25",
   "metadata": {
    "ExecuteTime": {
     "end_time": "2022-08-31T10:01:32.187223Z",
     "start_time": "2022-08-31T10:01:31.978648Z"
    }
   },
   "outputs": [],
   "source": [
    "tw_list = tw_list.dropna()\n",
    "tw_list.head()"
   ]
  },
  {
   "cell_type": "code",
   "execution_count": null,
   "id": "040ab39d",
   "metadata": {
    "ExecuteTime": {
     "end_time": "2022-08-31T10:01:35.932861Z",
     "start_time": "2022-08-31T10:01:32.188193Z"
    }
   },
   "outputs": [],
   "source": [
    "# scores\n",
    "e_scores = get_scores(economy, tw_list.clean_tweet.to_list())\n",
    "s_scores = get_scores(social, tw_list.clean_tweet.to_list())\n",
    "c_scores = get_scores(culture, tw_list.clean_tweet.to_list())\n",
    "h_scores = get_scores(health, tw_list.clean_tweet.to_list())\n",
    "\n",
    "data = {\n",
    "    \"username\": tw_list.user.to_list(),\n",
    "    \"economic_score\": e_scores,\n",
    "    \"social_score\": s_scores,\n",
    "    \"culture_score\": c_scores,\n",
    "    \"health_scores\": h_scores,\n",
    "}\n",
    "scores_df = pd.DataFrame.from_dict(data, orient='index')\n",
    "scores_df = scores_df.transpose()\n",
    "scores_df.head()"
   ]
  },
  {
   "cell_type": "code",
   "execution_count": null,
   "id": "69cdfe39",
   "metadata": {
    "ExecuteTime": {
     "end_time": "2022-08-31T10:01:35.948521Z",
     "start_time": "2022-08-31T10:01:35.933559Z"
    }
   },
   "outputs": [],
   "source": [
    "# Actual assigning of classes to the tweets\n",
    "\n",
    "def get_clusters(l1, l2, l3, l4):\n",
    "    econ = []\n",
    "    socio = []\n",
    "    cul = []\n",
    "    heal = []\n",
    "    for i, j, k, l in zip(l1, l2, l3, l4):\n",
    "        m = max(i, j, k, l)\n",
    "        if m == i:\n",
    "            econ.append(1)\n",
    "        else:\n",
    "            econ.append(0)\n",
    "        if m == j:\n",
    "            socio.append(1)\n",
    "        else:\n",
    "            socio.append(0)\n",
    "        if m == k:\n",
    "            cul.append(1)\n",
    "        else:\n",
    "            cul.append(0)\n",
    "        if m == l:\n",
    "            heal.append(1)\n",
    "        else:\n",
    "            heal.append(0)\n",
    "\n",
    "    return econ, socio, cul, heal"
   ]
  },
  {
   "cell_type": "code",
   "execution_count": null,
   "id": "bf18661b",
   "metadata": {
    "ExecuteTime": {
     "end_time": "2022-08-31T10:01:36.025608Z",
     "start_time": "2022-08-31T10:01:35.949520Z"
    }
   },
   "outputs": [],
   "source": [
    "l1 = scores_df.economic_score.to_list()\n",
    "l2 = scores_df.social_score.to_list()\n",
    "l3 = scores_df.culture_score.to_list()\n",
    "l4 = scores_df.health_scores.to_list()\n",
    "\n",
    "econ, socio, cul, heal = get_clusters(l1, l2, l3, l4)\n",
    "\n",
    "data = {\n",
    "    \"username\": scores_df.username.to_list(),\n",
    "    \"economic\": econ,\n",
    "    \"social\": socio,\n",
    "    \"culture\": cul,\n",
    "    \"health\": heal,\n",
    "}\n",
    "cluster_df = pd.DataFrame(data)\n",
    "cluster_df.head()"
   ]
  },
  {
   "cell_type": "code",
   "execution_count": null,
   "id": "10e43192",
   "metadata": {
    "ExecuteTime": {
     "end_time": "2022-08-31T10:01:36.152610Z",
     "start_time": "2022-08-31T10:01:36.028578Z"
    }
   },
   "outputs": [],
   "source": [
    "a = cluster_df[[\"economic\", \"social\", \"culture\", \"health\"]].sum(axis=1) > 1\n",
    "c = cluster_df[[\"economic\", \"social\", \"culture\", \"health\"]].sum(axis=1)\n",
    "cluster_df.loc[(a), [\"economic\", \"social\", \"culture\", \"health\"]] = 1 / c\n",
    "\n",
    "pivot_clusters = cluster_df.groupby([\"username\"]).sum()\n",
    "pivot_clusters[\"economic\"] = pivot_clusters[\"economic\"].astype(int)\n",
    "pivot_clusters[\"social\"] = pivot_clusters[\"social\"].astype(int)\n",
    "pivot_clusters[\"culture\"] = pivot_clusters[\"culture\"].astype(int)\n",
    "pivot_clusters[\"health\"] = pivot_clusters[\"health\"].astype(int)\n",
    "pivot_clusters[\"total\"] = (\n",
    "    pivot_clusters[\"health\"]\n",
    "    + pivot_clusters[\"culture\"]\n",
    "    + pivot_clusters[\"social\"]\n",
    "    + pivot_clusters[\"economic\"]\n",
    ")\n",
    "pivot_clusters.loc[\"Total\"] = pivot_clusters.sum()  # add a totals row\n",
    "print(pivot_clusters.shape)\n",
    "pivot_clusters.tail()"
   ]
  },
  {
   "cell_type": "markdown",
   "id": "c05ddff3",
   "metadata": {},
   "source": [
    "### Grafico a torta Clustering"
   ]
  },
  {
   "cell_type": "code",
   "execution_count": null,
   "id": "a75da3e1",
   "metadata": {
    "ExecuteTime": {
     "end_time": "2022-08-31T10:01:36.168537Z",
     "start_time": "2022-08-31T10:01:36.154574Z"
    }
   },
   "outputs": [],
   "source": [
    "a = pivot_clusters.drop([\"total\"], axis=1)\n",
    "labels = a.columns\n",
    "values = a.loc[\"Total\"]\n",
    "\n",
    "fig = go.Figure(\n",
    "    data=[go.Pie(labels=labels, values=values, textinfo=\"label+percent\")])\n",
    "fig.update_traces(marker=dict(colors=px.colors.sequential.YlGnBu))\n",
    "fig.show()\n",
    "# fig.write_image(\"pie_categories.png\")"
   ]
  },
  {
   "cell_type": "markdown",
   "id": "8a157162",
   "metadata": {},
   "source": [
    "### Utenti con più tweets"
   ]
  },
  {
   "cell_type": "code",
   "execution_count": null,
   "id": "3ba2ee74",
   "metadata": {
    "ExecuteTime": {
     "end_time": "2022-08-31T10:01:36.232365Z",
     "start_time": "2022-08-31T10:01:36.169534Z"
    }
   },
   "outputs": [],
   "source": [
    "d = pivot_clusters.sort_values(by=\"total\", ascending=False)\n",
    "e = d.head(20)\n",
    "e.drop(e.head(2).index, inplace=True)\n",
    "fig = px.bar(\n",
    "    e,\n",
    "    x=e.index,\n",
    "    y=e.total,\n",
    "    title=\"Top 20 tweets per username\",\n",
    "    labels={\n",
    "        \"index\": \"Usernames\",\n",
    "        \"total\": \"Occurrences\",\n",
    "    },\n",
    "    color=\"total\",\n",
    "    color_continuous_scale=px.colors.sequential.YlGnBu[1:],\n",
    ")\n",
    "fig.update_traces(texttemplate=\"%{value}\", textposition=\"outside\")\n",
    "fig.update_layout(uniformtext_minsize=8)\n",
    "fig.update_layout(xaxis_tickangle=-45)\n",
    "# fig.write_image(\"top_user.png\")"
   ]
  },
  {
   "cell_type": "code",
   "execution_count": null,
   "id": "85d9d680",
   "metadata": {
    "ExecuteTime": {
     "end_time": "2022-08-31T10:01:36.243129Z",
     "start_time": "2022-08-31T10:01:36.234361Z"
    }
   },
   "outputs": [],
   "source": [
    "# drop the totals row\n",
    "pivot_clusters.drop(pivot_clusters.tail(1).index, inplace=True)"
   ]
  },
  {
   "cell_type": "code",
   "execution_count": null,
   "id": "580f335e",
   "metadata": {
    "ExecuteTime": {
     "end_time": "2022-08-31T10:01:36.258751Z",
     "start_time": "2022-08-31T10:01:36.243129Z"
    }
   },
   "outputs": [],
   "source": [
    "pivot_clusters.tail()"
   ]
  },
  {
   "cell_type": "markdown",
   "id": "1381c87d",
   "metadata": {},
   "source": [
    "### Scatter Matrix"
   ]
  },
  {
   "cell_type": "code",
   "execution_count": null,
   "id": "68454a1c",
   "metadata": {
    "ExecuteTime": {
     "end_time": "2022-08-31T10:01:36.337717Z",
     "start_time": "2022-08-31T10:01:36.258751Z"
    }
   },
   "outputs": [],
   "source": [
    "fig = go.Figure(data=go.Splom(\n",
    "                dimensions=[dict(label='economic',\n",
    "                                 values=pivot_clusters['economic']),\n",
    "                            dict(label='social',\n",
    "                                 values=pivot_clusters['social']),\n",
    "                            dict(label='culture',\n",
    "                                 values=pivot_clusters['culture']),\n",
    "                            dict(label='health',\n",
    "                                 values=pivot_clusters['health'])],\n",
    "                diagonal_visible=False,  # remove plots on diagonal\n",
    "                marker=dict(color=colorscale[4])\n",
    "                ))\n",
    "\n",
    "fig.update_layout(\n",
    "    height=800,\n",
    ")\n",
    "\n",
    "fig.show()"
   ]
  },
  {
   "cell_type": "markdown",
   "id": "7991caf1",
   "metadata": {},
   "source": [
    "### Definizione coppie per K-Means\n",
    "\n",
    "- Economic - Social\n",
    "- Social - Culture\n",
    "- Economic - Health\n",
    "- Economic - Culture\n"
   ]
  },
  {
   "cell_type": "code",
   "execution_count": null,
   "id": "84619315",
   "metadata": {
    "ExecuteTime": {
     "end_time": "2022-08-31T10:01:36.353672Z",
     "start_time": "2022-08-31T10:01:36.339710Z"
    }
   },
   "outputs": [],
   "source": [
    "X_es = pivot_clusters[[\"economic\", \"social\"]].values\n",
    "X_sc = pivot_clusters[[\"social\", \"culture\"]].values\n",
    "X_eh = pivot_clusters[[\"economic\", \"health\"]].values\n",
    "X_ec = pivot_clusters[[\"economic\", \"culture\"]].values"
   ]
  },
  {
   "cell_type": "markdown",
   "id": "735bb704",
   "metadata": {},
   "source": [
    "### Elbow Method + K-Means Clustering"
   ]
  },
  {
   "cell_type": "code",
   "execution_count": null,
   "id": "82198fac",
   "metadata": {
    "ExecuteTime": {
     "end_time": "2022-08-31T10:01:36.385612Z",
     "start_time": "2022-08-31T10:01:36.355670Z"
    }
   },
   "outputs": [],
   "source": [
    "def distortionInertia(features):\n",
    "    distortions = []\n",
    "    inertias = []\n",
    "    K = range(1, 10)\n",
    "\n",
    "    for k in K:\n",
    "        # Building and fitting the model\n",
    "        kmeanModel = KMeans(n_clusters=k).fit(features)\n",
    "        kmeanModel.fit(features)\n",
    "\n",
    "        distortions.append(sum(np.min(cdist(features, kmeanModel.cluster_centers_,\n",
    "                                            'euclidean'), axis=1)) / features.shape[0])\n",
    "        inertias.append(kmeanModel.inertia_)\n",
    "    return distortions, inertias\n",
    "\n",
    "\n",
    "def elbowPlot(features):\n",
    "    distortions, inertias = distortionInertia(features)\n",
    "\n",
    "    fig = make_subplots(rows=1, cols=2)\n",
    "    fig.add_trace(\n",
    "        go.Scatter(x=list(range(10)), y=distortions, name='Distorsione',\n",
    "                   line=dict(color=colorscale[3])),\n",
    "        row=1, col=1\n",
    "    )\n",
    "    fig.update_xaxes(title_text=\"K\", row=1, col=1)\n",
    "    fig.update_yaxes(title_text=\"Distorsione\", row=1, col=1)\n",
    "\n",
    "    fig.add_trace(\n",
    "        go.Scatter(x=list(range(10)), y=inertias, name='Inerzia',\n",
    "                   line=dict(color=colorscale[5])),\n",
    "        row=1, col=2\n",
    "    )\n",
    "    fig.update_xaxes(title_text=\"K\", row=1, col=2)\n",
    "    fig.update_yaxes(title_text=\"Inerzia\", row=1, col=2)\n",
    "\n",
    "    fig.update_layout(  # height=600, width=800,\n",
    "        title_text=\"Elbow Method: Distorsione vs. Inerzia\")\n",
    "    fig.show()\n",
    "\n",
    "\n",
    "def computeKmeans(features, n_clusters):\n",
    "    # color_scale =\n",
    "    kmeans = KMeans(n_clusters=n_clusters)\n",
    "    kmeans.fit(features)\n",
    "    y_kmeans = kmeans.predict(features)\n",
    "    centers = kmeans.cluster_centers_\n",
    "\n",
    "    fig = go.Figure()\n",
    "\n",
    "    # Add traces\n",
    "    fig.add_trace(go.Scatter(x=features[:5000, 0], y=features[:5000, 1], mode='markers',\n",
    "                  name='Clusters', marker=dict(size=8, color=y_kmeans, colorscale=colorscale, line=dict(width=1,\n",
    "                                                                                                        color='DarkSlateGrey'))))  # , colorscale='Teal'\n",
    "\n",
    "    fig.add_trace(go.Scatter(x=centers[:5000, 0], y=centers[:5000, 1], mode='markers', name='Centroidi', opacity=0.5, marker=dict(size=20,\n",
    "                                                                                                                                  color='DarkSlateGrey')))\n",
    "\n",
    "    # fig.update_layout(width=800)\n",
    "\n",
    "    fig.show()"
   ]
  },
  {
   "cell_type": "code",
   "execution_count": null,
   "id": "a236cc3d",
   "metadata": {
    "ExecuteTime": {
     "end_time": "2022-08-31T10:01:41.271162Z",
     "start_time": "2022-08-31T10:01:36.387582Z"
    }
   },
   "outputs": [],
   "source": [
    "elbowPlot(X_es)\n",
    "computeKmeans(X_es, 3)"
   ]
  },
  {
   "cell_type": "code",
   "execution_count": null,
   "id": "e44cc098",
   "metadata": {
    "ExecuteTime": {
     "end_time": "2022-08-31T10:01:45.615007Z",
     "start_time": "2022-08-31T10:01:41.273519Z"
    }
   },
   "outputs": [],
   "source": [
    "elbowPlot(X_sc)\n",
    "computeKmeans(X_sc, 2)"
   ]
  },
  {
   "cell_type": "code",
   "execution_count": null,
   "id": "0921f9da",
   "metadata": {
    "ExecuteTime": {
     "end_time": "2022-08-31T10:01:50.329313Z",
     "start_time": "2022-08-31T10:01:45.617002Z"
    }
   },
   "outputs": [],
   "source": [
    "elbowPlot(X_eh)\n",
    "computeKmeans(X_eh, 3)"
   ]
  },
  {
   "cell_type": "code",
   "execution_count": null,
   "id": "7a2ce236",
   "metadata": {
    "ExecuteTime": {
     "end_time": "2022-08-31T10:01:55.207207Z",
     "start_time": "2022-08-31T10:01:50.331307Z"
    }
   },
   "outputs": [],
   "source": [
    "elbowPlot(X_ec)\n",
    "computeKmeans(X_ec, 3)"
   ]
  },
  {
   "cell_type": "code",
   "execution_count": null,
   "id": "1ac0bba9",
   "metadata": {
    "ExecuteTime": {
     "end_time": "2022-08-31T10:01:55.222792Z",
     "start_time": "2022-08-31T10:01:55.209282Z"
    }
   },
   "outputs": [],
   "source": [
    "def KmeansPlot(features, n_clusters):\n",
    "    kmeans = KMeans(n_clusters=n_clusters)\n",
    "    kmeans.fit(features)\n",
    "    y_kmeans = kmeans.predict(features)\n",
    "    centers = kmeans.cluster_centers_\n",
    "\n",
    "    return y_kmeans, centers"
   ]
  },
  {
   "cell_type": "markdown",
   "id": "9e2d99af",
   "metadata": {},
   "source": [
    "### Visualizzazione compatta K-Means"
   ]
  },
  {
   "cell_type": "code",
   "execution_count": null,
   "id": "1294954e",
   "metadata": {
    "ExecuteTime": {
     "end_time": "2022-08-31T10:01:56.196389Z",
     "start_time": "2022-08-31T10:01:55.224785Z"
    }
   },
   "outputs": [],
   "source": [
    "y_es, centers_es = KmeansPlot(X_es, 3)\n",
    "y_sc, centers_sc = KmeansPlot(X_sc, 2)\n",
    "y_eh, centers_eh = KmeansPlot(X_eh, 3)\n",
    "y_ec, centers_ec = KmeansPlot(X_ec, 3)\n",
    "\n",
    "fig = make_subplots(\n",
    "    rows=2, cols=2, subplot_titles=(\"Economic - Social\", \"Social - Culture\", \"Economic - Health\", \"Economic - Culture\")\n",
    ")\n",
    "# ES\n",
    "fig.add_trace(\n",
    "    go.Scatter(\n",
    "        x=X_es[:5000, 0],\n",
    "        y=X_es[:5000, 1],\n",
    "        mode=\"markers\",\n",
    "        showlegend=False,\n",
    "        marker=dict(color=y_es, colorscale=colorscale, line=dict(width=0.5, color='DarkSlateGrey'))), row=1, col=1)\n",
    "fig.add_trace(\n",
    "    go.Scatter(\n",
    "        x=centers_es[:5000, 0],\n",
    "        y=centers_es[:5000, 1],\n",
    "        mode=\"markers\",\n",
    "        showlegend=False,\n",
    "        opacity=0.5,\n",
    "        marker=dict(size=15, color=\"DarkSlateGrey\"),), row=1, col=1)\n",
    "\n",
    "# SC\n",
    "fig.add_trace(\n",
    "    go.Scatter(\n",
    "        x=X_sc[:5000, 0],\n",
    "        y=X_sc[:5000, 1],\n",
    "        mode=\"markers\",\n",
    "        showlegend=False,\n",
    "        marker=dict(color=y_es, colorscale=colorscale, line=dict(width=0.5, color='DarkSlateGrey'))), row=1, col=2)\n",
    "fig.add_trace(\n",
    "    go.Scatter(\n",
    "        x=centers_sc[:5000, 0],\n",
    "        y=centers_sc[:5000, 1],\n",
    "        mode=\"markers\",\n",
    "        showlegend=False,\n",
    "        opacity=0.5,\n",
    "        marker=dict(size=15, color=\"DarkSlateGrey\"),), row=1, col=2)\n",
    "\n",
    "# EH\n",
    "fig.add_trace(\n",
    "    go.Scatter(\n",
    "        x=X_eh[:5000, 0],\n",
    "        y=X_eh[:5000, 1],\n",
    "        mode=\"markers\",\n",
    "        showlegend=False,\n",
    "        marker=dict(color=y_es, colorscale=colorscale, line=dict(width=0.5, color='DarkSlateGrey'))), row=2, col=1)\n",
    "fig.add_trace(\n",
    "    go.Scatter(\n",
    "        x=centers_eh[:5000, 0],\n",
    "        y=centers_eh[:5000, 1],\n",
    "        mode=\"markers\",\n",
    "        showlegend=False,\n",
    "        opacity=0.5,\n",
    "        marker=dict(size=15, color=\"DarkSlateGrey\"),), row=2, col=1)\n",
    "\n",
    "# EC\n",
    "fig.add_trace(\n",
    "    go.Scatter(\n",
    "        x=X_ec[:5000, 0],\n",
    "        y=X_ec[:5000, 1],\n",
    "        mode=\"markers\",\n",
    "        showlegend=False,\n",
    "        marker=dict(color=y_es, colorscale=colorscale, line=dict(width=0.5, color='DarkSlateGrey'))), row=2, col=2)\n",
    "fig.add_trace(\n",
    "    go.Scatter(\n",
    "        x=centers_ec[:5000, 0],\n",
    "        y=centers_ec[:5000, 1],\n",
    "        mode=\"markers\",\n",
    "        showlegend=False,\n",
    "        opacity=0.5,\n",
    "        marker=dict(size=15, color=\"DarkSlateGrey\"),), row=2, col=2)\n",
    "\n",
    "# Update title and height\n",
    "fig.update_layout(\n",
    "    title_text=\"Visualizzazione Compatta K-Means Clustering\", height=800)\n",
    "\n",
    "fig.show()\n",
    "# fig.write_image(\"kmeans_summary.png\")"
   ]
  },
  {
   "cell_type": "markdown",
   "id": "9ce6a743",
   "metadata": {},
   "source": [
    "## Word Clouds"
   ]
  },
  {
   "cell_type": "code",
   "execution_count": null,
   "id": "c17eba81",
   "metadata": {
    "ExecuteTime": {
     "end_time": "2022-08-31T10:01:56.212345Z",
     "start_time": "2022-08-31T10:01:56.198383Z"
    }
   },
   "outputs": [],
   "source": [
    "def create_wordcloud(text, cmap, name):\n",
    "    filename = str(name) + \".png\"\n",
    "    mask = np.array(Image.open(\"twitter.png\"))\n",
    "    stop = set(stopwords.words('english'))\n",
    "    wc = WordCloud(background_color=\"white\",\n",
    "                   mask=mask,\n",
    "                   max_words=300,\n",
    "                   stopwords=stop,\n",
    "                   colormap=cmap,\n",
    "                   repeat=True,\n",
    "                   )\n",
    "    wc.generate(str(text))\n",
    "    wc.to_file(filename)\n",
    "    path = filename\n",
    "    display(Image.open(path))"
   ]
  },
  {
   "cell_type": "code",
   "execution_count": null,
   "id": "da6035a2",
   "metadata": {
    "ExecuteTime": {
     "end_time": "2022-08-31T10:02:00.416353Z",
     "start_time": "2022-08-31T10:01:56.213343Z"
    }
   },
   "outputs": [],
   "source": [
    "# Creating wordcloud for all tweets\n",
    "create_wordcloud(tw_list[\"clean_tweet\"].values, 'tab20', \"All\")"
   ]
  },
  {
   "cell_type": "code",
   "execution_count": null,
   "id": "028250d6",
   "metadata": {
    "ExecuteTime": {
     "end_time": "2022-08-31T10:02:04.632952Z",
     "start_time": "2022-08-31T10:02:00.416353Z"
    }
   },
   "outputs": [],
   "source": [
    "# Creating wordcloud for positive sentiment\n",
    "create_wordcloud(tw_list[tw_list.sentiment == 'positive']\n",
    "                 [\"clean_tweet\"].values, 'GnBu', \"Positive\")"
   ]
  },
  {
   "cell_type": "code",
   "execution_count": null,
   "id": "cf0df5d4",
   "metadata": {
    "ExecuteTime": {
     "end_time": "2022-08-31T10:02:09.073669Z",
     "start_time": "2022-08-31T10:02:04.633921Z"
    }
   },
   "outputs": [],
   "source": [
    "# Creating wordcloud for negative sentiment\n",
    "create_wordcloud(tw_list[tw_list.sentiment == 'negative']\n",
    "                 [\"clean_tweet\"].values, 'OrRd', \"Negative\")"
   ]
  },
  {
   "cell_type": "code",
   "execution_count": null,
   "id": "f94c7426",
   "metadata": {},
   "outputs": [],
   "source": []
  }
 ],
 "metadata": {
  "kernelspec": {
   "display_name": "Python 3 (ipykernel)",
   "language": "python",
   "name": "python3"
  },
  "language_info": {
   "codemirror_mode": {
    "name": "ipython",
    "version": 3
   },
   "file_extension": ".py",
   "mimetype": "text/x-python",
   "name": "python",
   "nbconvert_exporter": "python",
   "pygments_lexer": "ipython3",
   "version": "3.8.13"
  },
  "toc": {
   "base_numbering": 1,
   "nav_menu": {},
   "number_sections": true,
   "sideBar": true,
   "skip_h1_title": false,
   "title_cell": "Table of Contents",
   "title_sidebar": "Contents",
   "toc_cell": false,
   "toc_position": {
    "height": "calc(100% - 180px)",
    "left": "10px",
    "top": "150px",
    "width": "838px"
   },
   "toc_section_display": true,
   "toc_window_display": false
  },
  "vscode": {
   "interpreter": {
    "hash": "4872d8d3c2bbc685ce63036ae2af19b2205f6c9572f817ece472ff4ae51ff82f"
   }
  }
 },
 "nbformat": 4,
 "nbformat_minor": 5
}
